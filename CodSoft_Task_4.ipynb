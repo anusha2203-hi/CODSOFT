{
  "nbformat": 4,
  "nbformat_minor": 0,
  "metadata": {
    "colab": {
      "provenance": [],
      "authorship_tag": "ABX9TyMBXcX79yQOR17I0ehqn/5G",
      "include_colab_link": true
    },
    "kernelspec": {
      "name": "python3",
      "display_name": "Python 3"
    },
    "language_info": {
      "name": "python"
    }
  },
  "cells": [
    {
      "cell_type": "markdown",
      "metadata": {
        "id": "view-in-github",
        "colab_type": "text"
      },
      "source": [
        "<a href=\"https://colab.research.google.com/github/anusha2203-hi/CODSOFT/blob/main/CodSoft_Task_4.ipynb\" target=\"_parent\"><img src=\"https://colab.research.google.com/assets/colab-badge.svg\" alt=\"Open In Colab\"/></a>"
      ]
    },
    {
      "cell_type": "code",
      "execution_count": 1,
      "metadata": {
        "colab": {
          "base_uri": "https://localhost:8080/"
        },
        "id": "GjThkNA3pBSF",
        "outputId": "7e08261b-c270-4760-aea9-d602c3cddc8d"
      },
      "outputs": [
        {
          "output_type": "stream",
          "name": "stdout",
          "text": [
            "ENTER YOUR CHOICE ROCK OR PAPER OR SCISSORS: rock\n",
            "Your choice is rock \n",
            "Computer's choice is scissors\n",
            "Rock smashes scissors. You win! :)\n",
            "Do you want to try again? (Y/N) y\n",
            "__\n",
            "\n",
            "ENTER YOUR CHOICE ROCK OR PAPER OR SCISSORS: paper\n",
            "Your choice is paper \n",
            "Computer's choice is rock\n",
            "Paper covers rock. You win! :)\n",
            "Do you want to try again? (Y/N) n\n",
            "GGs\n"
          ]
        }
      ],
      "source": [
        "#ROCK_PAPER_SCISSORS\n",
        "\n",
        "import random\n",
        "choices=[\"rock\",\"paper\",\"scissors\"]\n",
        "def game():\n",
        "  userInput=(input(\"ENTER YOUR CHOICE ROCK OR PAPER OR SCISSORS: \")).lower()\n",
        "  computerInput=random.choice(choices)\n",
        "  if userInput in choices:\n",
        "    print(f\"Your choice is {userInput} \\nComputer's choice is {computerInput}\")\n",
        "    if(userInput==computerInput):\n",
        "      print(\"It's a TIE\")\n",
        "    elif(userInput==\"paper\" and computerInput==\"rock\"):\n",
        "        print(\"Paper covers rock. You win! :)\")\n",
        "    elif(userInput==\"rock\" and computerInput==\"scissors\"):\n",
        "        print(\"Rock smashes scissors. You win! :)\")\n",
        "    elif(userInput==\"scissors\" and computerInput==\"paper\"):\n",
        "        print(\"Scissors cuts paper. You win! :)\")\n",
        "    else:\n",
        "        print(\"You lose\")\n",
        "  else:\n",
        "    print(\"Invalid input\")\n",
        "  if((input(\"Do you want to try again? (Y/N) \")).upper()=='Y'):\n",
        "    print(\"__\\n\")\n",
        "    game()\n",
        "  else:\n",
        "    print(\"GGs\")\n",
        "game()"
      ]
    }
  ]
}