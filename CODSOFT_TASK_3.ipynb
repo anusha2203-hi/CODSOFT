{
  "nbformat": 4,
  "nbformat_minor": 0,
  "metadata": {
    "colab": {
      "provenance": [],
      "authorship_tag": "ABX9TyPOYmZ857B271zeArHpaJSt",
      "include_colab_link": true
    },
    "kernelspec": {
      "name": "python3",
      "display_name": "Python 3"
    },
    "language_info": {
      "name": "python"
    }
  },
  "cells": [
    {
      "cell_type": "markdown",
      "metadata": {
        "id": "view-in-github",
        "colab_type": "text"
      },
      "source": [
        "<a href=\"https://colab.research.google.com/github/anusha2203-hi/CODSOFT/blob/main/CODSOFT_TASK_3.ipynb\" target=\"_parent\"><img src=\"https://colab.research.google.com/assets/colab-badge.svg\" alt=\"Open In Colab\"/></a>"
      ]
    },
    {
      "cell_type": "code",
      "execution_count": null,
      "metadata": {
        "id": "J8nEyhn0k68r",
        "colab": {
          "base_uri": "https://localhost:8080/"
        },
        "outputId": "84d2f6f4-2da3-4858-e558-6d3be3fe4f9a"
      },
      "outputs": [
        {
          "output_type": "stream",
          "name": "stdout",
          "text": [
            "Enter the length of the password 78\n",
            "Your password is:  ahmZAs%<]O}TUng?&o7G`L^@;CeVBpj3iH[YIW=2|(_x~/8zK9F#Nwf,Xu{*Q'c:r>vbMS)+45lJRP\n"
          ]
        }
      ],
      "source": [
        "#PASSWORD GENERATOR\n",
        "import string\n",
        "import random\n",
        "if __name__==\"__main__\":\n",
        "  fs=string.ascii_lowercase\n",
        "  ss=string.ascii_uppercase\n",
        "  ts=string.digits\n",
        "  fos=string.punctuation\n",
        "  passlen=int(input(\"Enter the length of the password \"))\n",
        "  s=[]\n",
        "  s.extend(list(fs))\n",
        "  s.extend(list(ss))\n",
        "  s.extend(list(ts))\n",
        "  s.extend(list(fos))\n",
        "  random.shuffle(s)\n",
        "  print(\"Your password is: \",\"\".join(s[0:passlen]))"
      ]
    }
  ]
}