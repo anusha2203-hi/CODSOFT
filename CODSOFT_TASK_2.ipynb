{
  "nbformat": 4,
  "nbformat_minor": 0,
  "metadata": {
    "colab": {
      "provenance": [],
      "authorship_tag": "ABX9TyPWbF4IneXCaVxOcj2zq4/d",
      "include_colab_link": true
    },
    "kernelspec": {
      "name": "python3",
      "display_name": "Python 3"
    },
    "language_info": {
      "name": "python"
    }
  },
  "cells": [
    {
      "cell_type": "markdown",
      "metadata": {
        "id": "view-in-github",
        "colab_type": "text"
      },
      "source": [
        "<a href=\"https://colab.research.google.com/github/anusha2203-hi/CODSOFT/blob/main/CODSOFT_TASK_2.ipynb\" target=\"_parent\"><img src=\"https://colab.research.google.com/assets/colab-badge.svg\" alt=\"Open In Colab\"/></a>"
      ]
    },
    {
      "cell_type": "markdown",
      "source": [],
      "metadata": {
        "id": "mz4v16XXkzRi"
      }
    },
    {
      "cell_type": "code",
      "execution_count": 1,
      "metadata": {
        "colab": {
          "base_uri": "https://localhost:8080/"
        },
        "id": "1r1-OIf_m5NJ",
        "outputId": "4247b043-bf2b-4fce-996c-a7d883811a15"
      },
      "outputs": [
        {
          "output_type": "stream",
          "name": "stdout",
          "text": [
            "enter the operation to perform \n",
            "1. ADDITION\n",
            "2. SUBTRACTION\n",
            "3. DIVISION\n",
            "4. MULTIPLICATION\n",
            "5. REMAINDER\n",
            "\n",
            "enter your choice 1 or 2 or 3 or 4 or 5? \n",
            "CHOICE: 6\n",
            "INVALID INPUT\n"
          ]
        }
      ],
      "source": [
        "#CALCULATOR\n",
        "def add_digits(a,b):\n",
        "  return a+b\n",
        "def subtract_digits(a,b):\n",
        "  return a-b\n",
        "def divide_digits(a,b):\n",
        "  return a/b\n",
        "def multiply_digits(a,b):\n",
        "  return a*b\n",
        "def mod_digits(a,b):\n",
        "  return a%b\n",
        "print(\"enter the operation to perform \\n\"\\\n",
        "             \"1. ADDITION\\n\"\\\n",
        "             \"2. SUBTRACTION\\n\"\\\n",
        "             \"3. DIVISION\\n\"\\\n",
        "             \"4. MULTIPLICATION\\n\"\\\n",
        "             \"5. REMAINDER\\n\")\n",
        "button=int(input(\"enter your choice 1 or 2 or 3 or 4 or 5? \\n\" \"CHOICE: \"))\n",
        "if (button>0 and button<6):\n",
        " a=int(input(\"enter the first digit \"))\n",
        " b=int(input(\"enter the second digit \"))\n",
        "\n",
        "elif button==1:\n",
        "   print(\"a+b \", \"=\", add_digits(a,b))\n",
        "elif button==2:\n",
        "   print(\"a-b \", \"=\", subtract_digits(a,b))\n",
        "elif button==3:\n",
        "   print(\"a/b \", \"=\", divide_digits(a,b))\n",
        "elif button==4:\n",
        "   print(\"a*b \", \"=\", multiply_digits(a,b))\n",
        "elif button==5:\n",
        "   print(\"a%b \", \"=\", mod_digits(a,b))\n",
        "else:\n",
        "  print(\"INVALID INPUT\")\n"
      ]
    }
  ]
}