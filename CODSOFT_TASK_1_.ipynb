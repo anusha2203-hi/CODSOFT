{
  "cells": [
    {
      "cell_type": "markdown",
      "metadata": {
        "id": "view-in-github",
        "colab_type": "text"
      },
      "source": [
        "<a href=\"https://colab.research.google.com/github/anusha2203-hi/CODSOFT/blob/main/CODSOFT_TASK_1_.ipynb\" target=\"_parent\"><img src=\"https://colab.research.google.com/assets/colab-badge.svg\" alt=\"Open In Colab\"/></a>"
      ]
    },
    {
      "cell_type": "code",
      "execution_count": null,
      "metadata": {
        "colab": {
          "background_save": true,
          "base_uri": "https://localhost:8080/"
        },
        "id": "jPqvcxAqe32Q",
        "outputId": "44b01ac3-6e3f-4134-8ea8-f1132deb5ab5"
      },
      "outputs": [
        {
          "name": "stdout",
          "output_type": "stream",
          "text": [
            "~WELCOME TO THE TO-DO LIST APP~\n",
            "What do you wanna do?\n",
            "Please select.\n",
            "1. ADD A TASK\n",
            "2. DELETE A TASK\n",
            "3. LIST TASKS\n",
            "4. DROP\n",
            "Task 'eat' is added to the list\n",
            "What do you wanna do?\n",
            "Please select.\n",
            "1. ADD A TASK\n",
            "2. DELETE A TASK\n",
            "3. LIST TASKS\n",
            "4. DROP\n",
            "Tasks currently present\n",
            "#0. eat\n",
            "task 0 has been removed\n",
            "What do you wanna do?\n",
            "Please select.\n",
            "1. ADD A TASK\n",
            "2. DELETE A TASK\n",
            "3. LIST TASKS\n",
            "4. DROP\n",
            "Task list is empty\n",
            "What do you wanna do?\n",
            "Please select.\n",
            "1. ADD A TASK\n",
            "2. DELETE A TASK\n",
            "3. LIST TASKS\n",
            "4. DROP\n",
            "INVALID INPUT. please try again\n",
            "What do you wanna do?\n",
            "Please select.\n",
            "1. ADD A TASK\n",
            "2. DELETE A TASK\n",
            "3. LIST TASKS\n",
            "4. DROP\n"
          ]
        }
      ],
      "source": [
        "tasks=[]\n",
        "def add_Task():\n",
        "  task=input(\"enter a task\")\n",
        "  tasks.append(task)\n",
        "  print(f\"Task '{task}' is added to the list\")\n",
        "def list_Tasks():\n",
        "  if not tasks:\n",
        "    print(\"Task list is empty\")\n",
        "  else:\n",
        "    print(\"Tasks currently present\")\n",
        "    for index, task in enumerate(tasks):\n",
        "      print(f\"#{index}. {task}\")\n",
        "def delete_Task():\n",
        "  list_Tasks()\n",
        "  try:\n",
        "    tasktodelete=int(input(\"enter the # to delete\"))\n",
        "    if tasktodelete >=0 and tasktodelete < len(tasks):\n",
        "      tasks.pop(tasktodelete)\n",
        "      print(f\"task {tasktodelete} has been removed\")\n",
        "    else:\n",
        "      print(f\"task {tasktodelete} not found\")\n",
        "  except:\n",
        "      print(\"invalid input\")\n",
        "\n",
        "if __name__==\"__main__\":\n",
        "  print(\"~WELCOME TO THE TO-DO LIST APP~\")\n",
        "  while True:\n",
        "    print(\"What do you wanna do?\" \"\\n\"  \"Please select.\")\n",
        "    print(\"1. ADD A TASK\")\n",
        "    print(\"2. DELETE A TASK\")\n",
        "    print(\"3. LIST TASKS\")\n",
        "    print(\"4. DROP\")\n",
        "\n",
        "    choice=int(input(\"enter your choice\"))\n",
        "    if (choice==1):\n",
        "      add_Task()\n",
        "    elif(choice==2):\n",
        "      delete_Task()\n",
        "    elif(choice==3):\n",
        "      list_Tasks()\n",
        "    elif(choice==4):\n",
        "      break\n",
        "    else:\n",
        "      print(\"INVALID INPUT. please try again\")\n",
        "print(\"GOODBYE. HOPE TO SEE YOU AGAIN\")\n",
        "\n",
        "\n",
        "\n"
      ]
    }
  ],
  "metadata": {
    "colab": {
      "provenance": [],
      "authorship_tag": "ABX9TyNsRWjX2mFRyI5q0NBE1hJc",
      "include_colab_link": true
    },
    "kernelspec": {
      "display_name": "Python 3",
      "name": "python3"
    },
    "language_info": {
      "name": "python"
    },
    "vp": {
      "vp_note_display": false,
      "vp_note_width": 0
    }
  },
  "nbformat": 4,
  "nbformat_minor": 0
}